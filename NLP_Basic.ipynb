{
  "nbformat": 4,
  "nbformat_minor": 0,
  "metadata": {
    "colab": {
      "provenance": []
    },
    "kernelspec": {
      "name": "python3",
      "display_name": "Python 3"
    },
    "language_info": {
      "name": "python"
    }
  },
  "cells": [
    {
      "cell_type": "code",
      "execution_count": null,
      "metadata": {
        "id": "sRMTl7C1D5VD"
      },
      "outputs": [],
      "source": [
        "import requests\n",
        "from bs4 import BeautifulSoup\n",
        "import nltk\n",
        "import spacy\n",
        "from nltk.tokenize import word_tokenize, sent_tokenize\n",
        "from nltk.corpus import stopwords\n",
        "from nltk.stem import PorterStemmer\n",
        "from collections import Counter\n",
        "import textwrap\n",
        "\n",
        "import matplotlib.pyplot as plt"
      ]
    },
    {
      "cell_type": "code",
      "source": [
        "nlp = spacy.load('en_core_web_sm')\n",
        "\n",
        "# Download required NLTK datasets\n",
        "nltk.download('punkt')\n",
        "nltk.download('stopwords')\n",
        "nltk.download('averaged_perceptron_tagger')"
      ],
      "metadata": {
        "colab": {
          "base_uri": "https://localhost:8080/"
        },
        "id": "zKUiYKFGEkzQ",
        "outputId": "1db24748-73af-4227-d420-4971410a8f59"
      },
      "execution_count": null,
      "outputs": [
        {
          "output_type": "stream",
          "name": "stderr",
          "text": [
            "[nltk_data] Downloading package punkt to /root/nltk_data...\n",
            "[nltk_data]   Package punkt is already up-to-date!\n",
            "[nltk_data] Downloading package stopwords to /root/nltk_data...\n",
            "[nltk_data]   Package stopwords is already up-to-date!\n",
            "[nltk_data] Downloading package averaged_perceptron_tagger to\n",
            "[nltk_data]     /root/nltk_data...\n",
            "[nltk_data]   Package averaged_perceptron_tagger is already up-to-\n",
            "[nltk_data]       date!\n"
          ]
        },
        {
          "output_type": "execute_result",
          "data": {
            "text/plain": [
              "True"
            ]
          },
          "metadata": {},
          "execution_count": 37
        }
      ]
    },
    {
      "cell_type": "code",
      "source": [
        "def scrape_web_page(url):\n",
        "    \"\"\"\n",
        "    Fetches HTML content from the given URL.\n",
        "    Returns the HTML content if successful, otherwise None.\n",
        "    \"\"\"\n",
        "    response = requests.get(url)\n",
        "    if response.status_code == 200:\n",
        "        return response.text\n",
        "    else:\n",
        "        return None"
      ],
      "metadata": {
        "id": "gbpFAMlyEobG"
      },
      "execution_count": null,
      "outputs": []
    },
    {
      "cell_type": "code",
      "source": [
        "def extract_text_from_html(html_content):\n",
        "    \"\"\"\n",
        "    Extracts and concatenates text from all <p> tags in the HTML content.\n",
        "    \"\"\"\n",
        "    soup = BeautifulSoup(html_content, 'html.parser')\n",
        "    paragraphs = soup.find_all('p')\n",
        "    text = ' '.join([para.get_text() for para in paragraphs])\n",
        "    return text"
      ],
      "metadata": {
        "id": "Hbh3gx3yEsVK"
      },
      "execution_count": null,
      "outputs": []
    },
    {
      "cell_type": "code",
      "source": [
        "def tokenize_text(text):\n",
        "    \"\"\"\n",
        "    Tokenizes text into words and sentences.\n",
        "    \"\"\"\n",
        "    words = word_tokenize(text)\n",
        "    sentences = sent_tokenize(text)\n",
        "    return words, sentences"
      ],
      "metadata": {
        "id": "wg6aZW6zGdEN"
      },
      "execution_count": null,
      "outputs": []
    },
    {
      "cell_type": "code",
      "source": [
        "def remove_stop_words(words):\n",
        "    \"\"\"\n",
        "    Removes stop words from a list of words.\n",
        "    \"\"\"\n",
        "    stop_words = set(stopwords.words('english'))\n",
        "    return [word for word in words if word.lower() not in stop_words]"
      ],
      "metadata": {
        "id": "a8i0_4NZGkV1"
      },
      "execution_count": null,
      "outputs": []
    },
    {
      "cell_type": "code",
      "source": [
        "def stem_words(words):\n",
        "    \"\"\"\n",
        "    Stems words using the Porter Stemmer.\n",
        "    \"\"\"\n",
        "    stemmer = PorterStemmer()\n",
        "    return [stemmer.stem(word) for word in words]"
      ],
      "metadata": {
        "id": "91qfDgiAGs3X"
      },
      "execution_count": null,
      "outputs": []
    },
    {
      "cell_type": "code",
      "source": [
        "def lemmatize_text(text):\n",
        "    \"\"\"\n",
        "    Lemmatizes text using SpaCy.\n",
        "    \"\"\"\n",
        "    doc = nlp(text)\n",
        "    return [token.lemma_ for token in doc]"
      ],
      "metadata": {
        "id": "U0Sa5CZoHAi6"
      },
      "execution_count": null,
      "outputs": []
    },
    {
      "cell_type": "code",
      "source": [
        "def extract_named_entities(text):\n",
        "    \"\"\"\n",
        "    Extracts named entities using SpaCy.\n",
        "    \"\"\"\n",
        "    doc = nlp(text)\n",
        "    return [(ent.text, ent.label_) for ent in doc.ents]"
      ],
      "metadata": {
        "id": "2q_JB-tRHGUy"
      },
      "execution_count": null,
      "outputs": []
    },
    {
      "cell_type": "code",
      "source": [
        "def pos_tag_nltk(words):\n",
        "    \"\"\"\n",
        "    Performs Part-of-Speech tagging using NLTK.\n",
        "    \"\"\"\n",
        "    return nltk.pos_tag(words)"
      ],
      "metadata": {
        "id": "otOkux0oHLWE"
      },
      "execution_count": null,
      "outputs": []
    },
    {
      "cell_type": "code",
      "source": [
        "def pos_tag_spacy(text):\n",
        "    \"\"\"\n",
        "    Performs Part-of-Speech tagging using SpaCy.\n",
        "    \"\"\"\n",
        "    doc = nlp(text)\n",
        "    return [(token.text, token.pos_) for token in doc]"
      ],
      "metadata": {
        "id": "wvt9i4vsHk_N"
      },
      "execution_count": null,
      "outputs": []
    },
    {
      "cell_type": "code",
      "source": [
        "def word_frequency(words):\n",
        "    \"\"\"\n",
        "    Analyzes word frequency and returns the 10 most common words.\n",
        "    \"\"\"\n",
        "    return Counter(words).most_common(10)"
      ],
      "metadata": {
        "id": "Lod09lHoHlcy"
      },
      "execution_count": null,
      "outputs": []
    },
    {
      "cell_type": "code",
      "source": [
        "def perform_nlp_tasks(text):\n",
        "    \"\"\"\n",
        "    Orchestrates all NLP tasks and returns results as a dictionary.\n",
        "    \"\"\"\n",
        "    words, sentences = tokenize_text(text)\n",
        "    filtered_words = remove_stop_words(words)\n",
        "    stemmed_words = stem_words(filtered_words)\n",
        "    lemmatized_words = lemmatize_text(text)\n",
        "    entities = extract_named_entities(text)\n",
        "    pos_tags_nltk = pos_tag_nltk(filtered_words)\n",
        "    pos_tags_spacy = pos_tag_spacy(text)\n",
        "    word_freq = word_frequency(filtered_words)\n",
        "\n",
        "    return {\n",
        "        \"words\": words,\n",
        "        \"sentences\": sentences,\n",
        "        \"filtered_words\": filtered_words,\n",
        "        \"stemmed_words\": stemmed_words,\n",
        "        \"lemmatized_words\": lemmatized_words,\n",
        "        \"entities\": entities,\n",
        "        \"pos_tags_nltk\": pos_tags_nltk,\n",
        "        \"pos_tags_spacy\": pos_tags_spacy,\n",
        "        \"word_freq\": word_freq,\n",
        "    }"
      ],
      "metadata": {
        "id": "ZOJNOKaVE6u_"
      },
      "execution_count": null,
      "outputs": []
    },
    {
      "cell_type": "code",
      "source": [
        "url = \"https://apnews.com/article/lakers-blazers-score-lebron-6ed76fdd53d949a38bc0eadab4981959\""
      ],
      "metadata": {
        "id": "atJLZUWTE9av"
      },
      "execution_count": null,
      "outputs": []
    },
    {
      "cell_type": "code",
      "source": [
        "html_content = scrape_web_page(url)"
      ],
      "metadata": {
        "id": "Y6eUizWGFB1F"
      },
      "execution_count": null,
      "outputs": []
    },
    {
      "cell_type": "code",
      "source": [
        "import nltk"
      ],
      "metadata": {
        "id": "02YvT9jON86l"
      },
      "execution_count": null,
      "outputs": []
    },
    {
      "cell_type": "code",
      "source": [
        "nltk.download('averaged_perceptron_tagger_eng')"
      ],
      "metadata": {
        "colab": {
          "base_uri": "https://localhost:8080/"
        },
        "id": "KkBxZLPxOVAB",
        "outputId": "2a0b63ff-26ec-4234-99c6-5069c57e61a4"
      },
      "execution_count": null,
      "outputs": [
        {
          "output_type": "stream",
          "name": "stderr",
          "text": [
            "[nltk_data] Downloading package averaged_perceptron_tagger_eng to\n",
            "[nltk_data]     /root/nltk_data...\n",
            "[nltk_data]   Unzipping taggers/averaged_perceptron_tagger_eng.zip.\n"
          ]
        },
        {
          "output_type": "execute_result",
          "data": {
            "text/plain": [
              "True"
            ]
          },
          "metadata": {},
          "execution_count": 61
        }
      ]
    },
    {
      "cell_type": "code",
      "source": [
        "if html_content:\n",
        "\n",
        "    text = extract_text_from_html(html_content)\n",
        "\n",
        "    wrapped_text = textwrap.fill(text, width=80)\n",
        "    with open(\"web_content.txt\", \"w\") as file:\n",
        "        file.write(wrapped_text)\n",
        "\n",
        "    # Read the text from the file\n",
        "    with open(\"web_content.txt\", \"r\") as file:\n",
        "        text_from_file = file.read()\n",
        "\n",
        "    nlp_results = perform_nlp_tasks(text_from_file)\n",
        "    output = (\n",
        "        \"========== Tokenized Words ==========\"\n",
        "        f\"{nlp_results['words']}\\n\\n\"\n",
        "        \"========== Sentences ==========\"\n",
        "        f\"{nlp_results['sentences']}\\n\\n\"\n",
        "        \"========== Filtered Words (Without Stop Words) ==========\"\n",
        "        f\"{nlp_results['filtered_words']}\\n\\n\"\n",
        "        \"========== Stemmed Words ==========\"\n",
        "        f\"{nlp_results['stemmed_words']}\\n\\n\"\n",
        "        \"========== Lemmatized Words ==========\"\n",
        "        f\"{nlp_results['lemmatized_words']}\\n\\n\"\n",
        "        \"========== Named Entities ==========\"\n",
        "        f\"{nlp_results['entities']}\\n\\n\"\n",
        "        \"========== POS Tags (Using NLTK) ==========\"\n",
        "        f\"{nlp_results['pos_tags_nltk']}\\n\\n\"\n",
        "        \"========== POS Tags (Using SpaCy) ==========\"\n",
        "        f\"{nlp_results['pos_tags_spacy']}\\n\\n\"\n",
        "        \"========== Word Frequency ==========\"\n",
        "        f\"{nlp_results['word_freq']}\\n\"\n",
        "    )\n",
        "\n",
        "    print(output)\n",
        "\n",
        "    # Save the output to a file\n",
        "    with open(\"nlp_output.txt\", \"w\") as file:\n",
        "        file.write(output)\n",
        "else:\n",
        "    print(\"Failed to retrieve the webpage.\")"
      ],
      "metadata": {
        "colab": {
          "base_uri": "https://localhost:8080/"
        },
        "id": "pO7bk6RIFYaL",
        "outputId": "244f17d7-73a7-48e3-9056-34e95d3a9239"
      },
      "execution_count": null,
      "outputs": [
        {
          "output_type": "stream",
          "name": "stdout",
          "text": [
            "========== Tokenized Words ==========['Copyright', '2025', 'The', 'Associated', 'Press', '.', 'All', 'Rights', 'Reserved', '.', 'Los', 'Angeles', 'Lakers', 'forward', 'LeBron', 'James', ',', 'right', ',', 'drives', 'by', 'Portland', 'Trail', 'Blazers', 'guard', 'Anfernee', 'Simons', 'during', 'the', 'first', 'half', 'of', 'an', 'NBA', 'basketball', 'game', ',', 'Thursday', ',', 'Jan.', '2', ',', '2025', ',', 'in', 'Los', 'Angeles', '.', '(', 'AP', 'Photo/Mark', 'J.', 'Terrill', ')', 'Portland', 'Trail', 'Blazers', 'forward', 'Deni', 'Avdija', ',', 'right', ',', 'shoots', 'as', 'Los', 'Angeles', 'Lakers', 'center', 'Jaxson', 'Hayes', 'defends', 'during', 'the', 'first', 'half', 'of', 'an', 'NBA', 'basketball', 'game', ',', 'Thursday', ',', 'Jan.', '2', ',', '2025', ',', 'in', 'Los', 'Angeles', '.', '(', 'AP', 'Photo/Mark', 'J.', 'Terrill', ')', 'Los', 'Angeles', 'Lakers', 'forward', 'LeBron', 'James', ',', 'right', ',', 'tosses', 'powder', 'in', 'the', 'air', 'as', 'guard', 'Bronny', 'James', 'stands', 'by', 'prior', 'to', 'an', 'NBA', 'basketball', 'game', 'against', 'the', 'Portland', 'Trail', 'Blazers', ',', 'Thursday', ',', 'Jan.', '2', ',', '2025', ',', 'in', 'Los', 'Angeles', '.', '(', 'AP', 'Photo/Mark', 'J.', 'Terrill', ')', 'Portland', 'Trail', 'Blazers', 'forward', 'Deni', 'Avdija', ',', 'right', ',', 'shoots', 'as', 'Los', 'Angeles', 'Lakers', 'center', 'Jaxson', 'Hayes', 'defends', 'during', 'the', 'first', 'half', 'of', 'an', 'NBA', 'basketball', 'game', ',', 'Thursday', ',', 'Jan.', '2', ',', '2025', ',', 'in', 'Los', 'Angeles', '.', '(', 'AP', 'Photo/Mark', 'J.', 'Terrill', ')', 'Los', 'Angeles', 'Lakers', 'forward', 'LeBron', 'James', ',', 'center', ',', 'shoots', 'as', 'Portland', 'Trail', 'Blazers', 'center', 'Donovan', 'Clingan', ',', 'left', ',', 'and', 'guard', 'Scoot', 'Henderson', 'defend', 'during', 'the', 'first', 'half', 'of', 'an', 'NBA', 'basketball', 'game', ',', 'Thursday', ',', 'Jan.', '2', ',', '2025', ',', 'in', 'Los', 'Angeles', '.', '(', 'AP', 'Photo/Mark', 'J.', 'Terrill', ')', 'Los', 'Angeles', 'Lakers', 'forward', 'Rui', 'Hachimura', 'dunks', 'during', 'the', 'first', 'half', 'of', 'an', 'NBA', 'basketball', 'game', 'against', 'the', 'Portland', 'Trail', 'Blazers', ',', 'Thursday', ',', 'Jan.', '2', ',', '2025', ',', 'in', 'Los', 'Angeles', '.', '(', 'AP', 'Photo/Mark', 'J.', 'Terrill', ')', 'LOS', 'ANGELES', '(', 'AP', ')', '—', 'LeBron', 'James', 'scored', '38', 'points', ',', 'Max', 'Christie', 'had', 'a', 'career-high', '28', 'and', 'the', 'Los', 'Angeles', 'Lakers', 'overcame', 'Anthony', 'Davis', '’', 'absence', 'for', 'a', '114-106', 'victory', 'over', 'the', 'Portland', 'Trail', 'Blazers', 'on', 'Thursday', 'night', '.', 'James', 'hit', 'a', 'season-high', 'seven', '3-pointers', 'and', 'Christie', 'added', 'five', 'for', 'the', 'Lakers', ',', 'who', 'have', 'won', 'six', 'of', 'eight', '.', 'Austin', 'Reaves', 'contributed', '15', 'points', ',', '11', 'assists', 'and', 'eight', 'rebounds', 'as', 'Los', 'Angeles', 'hung', 'on', 'to', 'beat', 'Portland', 'for', 'the', 'fifth', 'straight', 'time', '.', 'Davis', 'sat', 'out', 'for', 'only', 'the', 'second', 'time', 'this', 'season', 'to', 'rest', 'his', 'sprained', 'left', 'ankle', ',', 'which', 'the', 'star', 'big', 'man', 'hurt', 'on', 'Christmas', '.', 'Point', 'guard', 'Gabe', 'Vincent', 'also', 'sat', 'with', 'a', 'hip', 'injury', '.', 'Anfernee', 'Simons', 'scored', '11', 'of', 'his', '23', 'points', 'in', 'the', 'fourth', 'quarter', 'for', 'the', 'Blazers', ',', 'who', 'have', 'lost', 'four', 'of', 'six', '.', 'Shaedon', 'Sharpe', 'and', 'Deni', 'Avdija', 'added', '19', 'points', 'apiece', '.', 'Jaxson', 'Hayes', 'had', 'four', 'points', 'while', 'starting', 'in', 'Davis', '’', 'spot', 'in', 'his', 'return', 'from', 'a', '15-game', 'injury', 'absence', '.', 'Dorian', 'Finney-Smith', 'scored', 'three', 'points', 'and', 'Shake', 'Milton', 'had', 'four', 'in', 'the', 'veterans', '’', 'second', 'game', 'for', 'the', 'Lakers', 'since', 'arriving', 'in', 'a', 'trade', 'with', 'Brooklyn', '.', 'Trail', 'Blazers', ':', 'The', 'first', 'and', 'fourth', 'quarters', 'were', 'promising', ',', 'but', 'they', 'waited', 'too', 'long', 'to', 'get', 'aggressive', 'in', 'the', 'opener', 'of', 'a', 'five-game', 'road', 'trip', 'after', 'going', '3-9', 'in', 'December', '.', 'Lakers', ':', 'Christie', 'is', 'emerging', 'as', 'a', 'key', 'contributor', 'in', 'his', 'third', 'season', '.', 'He', 'has', 'scored', 'in', 'double', 'digits', 'for', 'the', 'fourth', 'time', 'in', 'five', 'games', ',', 'providing', '3-and-D', 'excellence', '.', 'Portland', 'trailed', '99-86', 'with', '6:13', 'to', 'play', ',', 'but', 'made', 'a', '14-4', 'run', '.', 'James', 'and', 'Christie', 'combined', 'for', '11', 'points', 'down', 'the', 'stretch', ',', 'capped', 'by', 'James', '’', 'seventh', '3-pointer', 'with', '59', 'seconds', 'left', '.', '14', 'of', '24', '—', 'James', '’', '3-point', 'shooting', 'over', 'the', 'past', 'four', 'games', '.', 'He', 'turned', '40', 'midway', 'through', 'this', 'torrid', 'stretch', '.', 'The', 'Lakers', 'host', 'Atlanta', 'on', 'Friday', '.', 'The', 'Blazers', 'visit', 'Damian', 'Lillard', 'and', 'the', 'Milwaukee', 'Bucks', 'on', 'Saturday', '.', 'AP', 'NBA', ':', 'https', ':', '//apnews.com/NBA', 'Copyright', '2025', 'The', 'Associated', 'Press', '.', 'All', 'Rights', 'Reserved', '.']\n",
            "\n",
            "========== Sentences ==========['Copyright 2025 The Associated Press.', 'All Rights Reserved.', 'Los Angeles Lakers\\nforward LeBron James, right, drives by Portland Trail Blazers guard Anfernee\\nSimons during the first half of an NBA basketball game, Thursday, Jan. 2, 2025,\\nin Los Angeles.', '(AP Photo/Mark J. Terrill) Portland Trail Blazers forward Deni\\nAvdija, right, shoots as Los Angeles Lakers center Jaxson Hayes defends during\\nthe first half of an NBA basketball game, Thursday, Jan. 2, 2025, in Los\\nAngeles.', '(AP Photo/Mark J. Terrill) Los Angeles Lakers forward LeBron James,\\nright, tosses powder in the air as guard Bronny James stands by prior to an NBA\\nbasketball game against the Portland Trail Blazers, Thursday, Jan. 2, 2025, in\\nLos Angeles.', '(AP Photo/Mark J. Terrill) Portland Trail Blazers forward Deni\\nAvdija, right, shoots as Los Angeles Lakers center Jaxson Hayes defends during\\nthe first half of an NBA basketball game, Thursday, Jan. 2, 2025, in Los\\nAngeles.', '(AP Photo/Mark J. Terrill) Los Angeles Lakers forward LeBron James,\\ncenter, shoots as Portland Trail Blazers center Donovan Clingan, left, and guard\\nScoot Henderson defend during the first half of an NBA basketball game,\\nThursday, Jan. 2, 2025, in Los Angeles.', '(AP Photo/Mark J. Terrill) Los Angeles\\nLakers forward Rui Hachimura dunks during the first half of an NBA basketball\\ngame against the Portland Trail Blazers, Thursday, Jan. 2, 2025, in Los Angeles.', '(AP Photo/Mark J. Terrill)             LOS ANGELES (AP) — LeBron James scored 38\\npoints, Max Christie had a career-high 28 and the Los Angeles Lakers overcame\\nAnthony Davis’ absence for a 114-106 victory over the Portland Trail Blazers on\\nThursday night.', 'James hit a season-high seven 3-pointers and Christie added five\\nfor the Lakers, who have won six of eight.', 'Austin Reaves contributed 15 points,\\n11 assists and eight rebounds as Los Angeles hung on to beat Portland for the\\nfifth straight time.', 'Davis sat out for only the second time this season to rest\\nhis sprained left ankle, which the star big man hurt on Christmas.', 'Point guard\\nGabe Vincent also sat with a hip injury.', 'Anfernee Simons scored 11 of his 23\\npoints in the fourth quarter for the Blazers, who have lost four of six.', 'Shaedon\\nSharpe and Deni Avdija added 19 points apiece.', 'Jaxson Hayes had four points\\nwhile starting in Davis’ spot in his return from a 15-game injury absence.', 'Dorian Finney-Smith scored three points and Shake Milton had four in the\\nveterans’ second game for the Lakers since arriving in a trade with Brooklyn.', 'Trail Blazers: The first and fourth quarters were promising, but they waited too\\nlong to get aggressive in the opener of a five-game road trip after going 3-9 in\\nDecember.', 'Lakers: Christie is emerging as a key contributor in his third season.', 'He has scored in double digits for the fourth time in five games, providing\\n3-and-D excellence.', 'Portland trailed 99-86 with 6:13 to play, but made a 14-4\\nrun.', 'James and Christie combined for 11 points down the stretch, capped by\\nJames’ seventh 3-pointer with 59 seconds left.', '14 of 24 — James’ 3-point\\nshooting over the past four games.', 'He turned 40 midway through this torrid\\nstretch.', 'The Lakers host Atlanta on Friday.', 'The Blazers visit Damian Lillard and\\nthe Milwaukee Bucks on Saturday.', 'AP NBA: https://apnews.com/NBA Copyright 2025\\nThe Associated Press.', 'All Rights Reserved.']\n",
            "\n",
            "========== Filtered Words (Without Stop Words) ==========['Copyright', '2025', 'Associated', 'Press', '.', 'Rights', 'Reserved', '.', 'Los', 'Angeles', 'Lakers', 'forward', 'LeBron', 'James', ',', 'right', ',', 'drives', 'Portland', 'Trail', 'Blazers', 'guard', 'Anfernee', 'Simons', 'first', 'half', 'NBA', 'basketball', 'game', ',', 'Thursday', ',', 'Jan.', '2', ',', '2025', ',', 'Los', 'Angeles', '.', '(', 'AP', 'Photo/Mark', 'J.', 'Terrill', ')', 'Portland', 'Trail', 'Blazers', 'forward', 'Deni', 'Avdija', ',', 'right', ',', 'shoots', 'Los', 'Angeles', 'Lakers', 'center', 'Jaxson', 'Hayes', 'defends', 'first', 'half', 'NBA', 'basketball', 'game', ',', 'Thursday', ',', 'Jan.', '2', ',', '2025', ',', 'Los', 'Angeles', '.', '(', 'AP', 'Photo/Mark', 'J.', 'Terrill', ')', 'Los', 'Angeles', 'Lakers', 'forward', 'LeBron', 'James', ',', 'right', ',', 'tosses', 'powder', 'air', 'guard', 'Bronny', 'James', 'stands', 'prior', 'NBA', 'basketball', 'game', 'Portland', 'Trail', 'Blazers', ',', 'Thursday', ',', 'Jan.', '2', ',', '2025', ',', 'Los', 'Angeles', '.', '(', 'AP', 'Photo/Mark', 'J.', 'Terrill', ')', 'Portland', 'Trail', 'Blazers', 'forward', 'Deni', 'Avdija', ',', 'right', ',', 'shoots', 'Los', 'Angeles', 'Lakers', 'center', 'Jaxson', 'Hayes', 'defends', 'first', 'half', 'NBA', 'basketball', 'game', ',', 'Thursday', ',', 'Jan.', '2', ',', '2025', ',', 'Los', 'Angeles', '.', '(', 'AP', 'Photo/Mark', 'J.', 'Terrill', ')', 'Los', 'Angeles', 'Lakers', 'forward', 'LeBron', 'James', ',', 'center', ',', 'shoots', 'Portland', 'Trail', 'Blazers', 'center', 'Donovan', 'Clingan', ',', 'left', ',', 'guard', 'Scoot', 'Henderson', 'defend', 'first', 'half', 'NBA', 'basketball', 'game', ',', 'Thursday', ',', 'Jan.', '2', ',', '2025', ',', 'Los', 'Angeles', '.', '(', 'AP', 'Photo/Mark', 'J.', 'Terrill', ')', 'Los', 'Angeles', 'Lakers', 'forward', 'Rui', 'Hachimura', 'dunks', 'first', 'half', 'NBA', 'basketball', 'game', 'Portland', 'Trail', 'Blazers', ',', 'Thursday', ',', 'Jan.', '2', ',', '2025', ',', 'Los', 'Angeles', '.', '(', 'AP', 'Photo/Mark', 'J.', 'Terrill', ')', 'LOS', 'ANGELES', '(', 'AP', ')', '—', 'LeBron', 'James', 'scored', '38', 'points', ',', 'Max', 'Christie', 'career-high', '28', 'Los', 'Angeles', 'Lakers', 'overcame', 'Anthony', 'Davis', '’', 'absence', '114-106', 'victory', 'Portland', 'Trail', 'Blazers', 'Thursday', 'night', '.', 'James', 'hit', 'season-high', 'seven', '3-pointers', 'Christie', 'added', 'five', 'Lakers', ',', 'six', 'eight', '.', 'Austin', 'Reaves', 'contributed', '15', 'points', ',', '11', 'assists', 'eight', 'rebounds', 'Los', 'Angeles', 'hung', 'beat', 'Portland', 'fifth', 'straight', 'time', '.', 'Davis', 'sat', 'second', 'time', 'season', 'rest', 'sprained', 'left', 'ankle', ',', 'star', 'big', 'man', 'hurt', 'Christmas', '.', 'Point', 'guard', 'Gabe', 'Vincent', 'also', 'sat', 'hip', 'injury', '.', 'Anfernee', 'Simons', 'scored', '11', '23', 'points', 'fourth', 'quarter', 'Blazers', ',', 'lost', 'four', 'six', '.', 'Shaedon', 'Sharpe', 'Deni', 'Avdija', 'added', '19', 'points', 'apiece', '.', 'Jaxson', 'Hayes', 'four', 'points', 'starting', 'Davis', '’', 'spot', 'return', '15-game', 'injury', 'absence', '.', 'Dorian', 'Finney-Smith', 'scored', 'three', 'points', 'Shake', 'Milton', 'four', 'veterans', '’', 'second', 'game', 'Lakers', 'since', 'arriving', 'trade', 'Brooklyn', '.', 'Trail', 'Blazers', ':', 'first', 'fourth', 'quarters', 'promising', ',', 'waited', 'long', 'get', 'aggressive', 'opener', 'five-game', 'road', 'trip', 'going', '3-9', 'December', '.', 'Lakers', ':', 'Christie', 'emerging', 'key', 'contributor', 'third', 'season', '.', 'scored', 'double', 'digits', 'fourth', 'time', 'five', 'games', ',', 'providing', '3-and-D', 'excellence', '.', 'Portland', 'trailed', '99-86', '6:13', 'play', ',', 'made', '14-4', 'run', '.', 'James', 'Christie', 'combined', '11', 'points', 'stretch', ',', 'capped', 'James', '’', 'seventh', '3-pointer', '59', 'seconds', 'left', '.', '14', '24', '—', 'James', '’', '3-point', 'shooting', 'past', 'four', 'games', '.', 'turned', '40', 'midway', 'torrid', 'stretch', '.', 'Lakers', 'host', 'Atlanta', 'Friday', '.', 'Blazers', 'visit', 'Damian', 'Lillard', 'Milwaukee', 'Bucks', 'Saturday', '.', 'AP', 'NBA', ':', 'https', ':', '//apnews.com/NBA', 'Copyright', '2025', 'Associated', 'Press', '.', 'Rights', 'Reserved', '.']\n",
            "\n",
            "========== Stemmed Words ==========['copyright', '2025', 'associ', 'press', '.', 'right', 'reserv', '.', 'lo', 'angel', 'laker', 'forward', 'lebron', 'jame', ',', 'right', ',', 'drive', 'portland', 'trail', 'blazer', 'guard', 'anferne', 'simon', 'first', 'half', 'nba', 'basketbal', 'game', ',', 'thursday', ',', 'jan.', '2', ',', '2025', ',', 'lo', 'angel', '.', '(', 'ap', 'photo/mark', 'j.', 'terril', ')', 'portland', 'trail', 'blazer', 'forward', 'deni', 'avdija', ',', 'right', ',', 'shoot', 'lo', 'angel', 'laker', 'center', 'jaxson', 'hay', 'defend', 'first', 'half', 'nba', 'basketbal', 'game', ',', 'thursday', ',', 'jan.', '2', ',', '2025', ',', 'lo', 'angel', '.', '(', 'ap', 'photo/mark', 'j.', 'terril', ')', 'lo', 'angel', 'laker', 'forward', 'lebron', 'jame', ',', 'right', ',', 'toss', 'powder', 'air', 'guard', 'bronni', 'jame', 'stand', 'prior', 'nba', 'basketbal', 'game', 'portland', 'trail', 'blazer', ',', 'thursday', ',', 'jan.', '2', ',', '2025', ',', 'lo', 'angel', '.', '(', 'ap', 'photo/mark', 'j.', 'terril', ')', 'portland', 'trail', 'blazer', 'forward', 'deni', 'avdija', ',', 'right', ',', 'shoot', 'lo', 'angel', 'laker', 'center', 'jaxson', 'hay', 'defend', 'first', 'half', 'nba', 'basketbal', 'game', ',', 'thursday', ',', 'jan.', '2', ',', '2025', ',', 'lo', 'angel', '.', '(', 'ap', 'photo/mark', 'j.', 'terril', ')', 'lo', 'angel', 'laker', 'forward', 'lebron', 'jame', ',', 'center', ',', 'shoot', 'portland', 'trail', 'blazer', 'center', 'donovan', 'clingan', ',', 'left', ',', 'guard', 'scoot', 'henderson', 'defend', 'first', 'half', 'nba', 'basketbal', 'game', ',', 'thursday', ',', 'jan.', '2', ',', '2025', ',', 'lo', 'angel', '.', '(', 'ap', 'photo/mark', 'j.', 'terril', ')', 'lo', 'angel', 'laker', 'forward', 'rui', 'hachimura', 'dunk', 'first', 'half', 'nba', 'basketbal', 'game', 'portland', 'trail', 'blazer', ',', 'thursday', ',', 'jan.', '2', ',', '2025', ',', 'lo', 'angel', '.', '(', 'ap', 'photo/mark', 'j.', 'terril', ')', 'lo', 'angel', '(', 'ap', ')', '—', 'lebron', 'jame', 'score', '38', 'point', ',', 'max', 'christi', 'career-high', '28', 'lo', 'angel', 'laker', 'overcam', 'anthoni', 'davi', '’', 'absenc', '114-106', 'victori', 'portland', 'trail', 'blazer', 'thursday', 'night', '.', 'jame', 'hit', 'season-high', 'seven', '3-pointer', 'christi', 'ad', 'five', 'laker', ',', 'six', 'eight', '.', 'austin', 'reav', 'contribut', '15', 'point', ',', '11', 'assist', 'eight', 'rebound', 'lo', 'angel', 'hung', 'beat', 'portland', 'fifth', 'straight', 'time', '.', 'davi', 'sat', 'second', 'time', 'season', 'rest', 'sprain', 'left', 'ankl', ',', 'star', 'big', 'man', 'hurt', 'christma', '.', 'point', 'guard', 'gabe', 'vincent', 'also', 'sat', 'hip', 'injuri', '.', 'anferne', 'simon', 'score', '11', '23', 'point', 'fourth', 'quarter', 'blazer', ',', 'lost', 'four', 'six', '.', 'shaedon', 'sharp', 'deni', 'avdija', 'ad', '19', 'point', 'apiec', '.', 'jaxson', 'hay', 'four', 'point', 'start', 'davi', '’', 'spot', 'return', '15-game', 'injuri', 'absenc', '.', 'dorian', 'finney-smith', 'score', 'three', 'point', 'shake', 'milton', 'four', 'veteran', '’', 'second', 'game', 'laker', 'sinc', 'arriv', 'trade', 'brooklyn', '.', 'trail', 'blazer', ':', 'first', 'fourth', 'quarter', 'promis', ',', 'wait', 'long', 'get', 'aggress', 'open', 'five-gam', 'road', 'trip', 'go', '3-9', 'decemb', '.', 'laker', ':', 'christi', 'emerg', 'key', 'contributor', 'third', 'season', '.', 'score', 'doubl', 'digit', 'fourth', 'time', 'five', 'game', ',', 'provid', '3-and-d', 'excel', '.', 'portland', 'trail', '99-86', '6:13', 'play', ',', 'made', '14-4', 'run', '.', 'jame', 'christi', 'combin', '11', 'point', 'stretch', ',', 'cap', 'jame', '’', 'seventh', '3-pointer', '59', 'second', 'left', '.', '14', '24', '—', 'jame', '’', '3-point', 'shoot', 'past', 'four', 'game', '.', 'turn', '40', 'midway', 'torrid', 'stretch', '.', 'laker', 'host', 'atlanta', 'friday', '.', 'blazer', 'visit', 'damian', 'lillard', 'milwauke', 'buck', 'saturday', '.', 'ap', 'nba', ':', 'http', ':', '//apnews.com/nba', 'copyright', '2025', 'associ', 'press', '.', 'right', 'reserv', '.']\n",
            "\n",
            "========== Lemmatized Words ==========['copyright', '2025', 'the', 'Associated', 'Press', '.', 'all', 'Rights', 'reserve', '.', 'Los', 'Angeles', 'Lakers', '\\n', 'forward', 'LeBron', 'James', ',', 'right', ',', 'drive', 'by', 'Portland', 'Trail', 'Blazers', 'guard', 'Anfernee', '\\n', 'Simons', 'during', 'the', 'first', 'half', 'of', 'an', 'NBA', 'basketball', 'game', ',', 'Thursday', ',', 'Jan.', '2', ',', '2025', ',', '\\n', 'in', 'Los', 'Angeles', '.', '(', 'AP', 'Photo', '/', 'Mark', 'J.', 'Terrill', ')', 'Portland', 'Trail', 'Blazers', 'forward', 'Deni', '\\n', 'Avdija', ',', 'right', ',', 'shoot', 'as', 'Los', 'Angeles', 'Lakers', 'center', 'Jaxson', 'Hayes', 'defend', 'during', '\\n', 'the', 'first', 'half', 'of', 'an', 'NBA', 'basketball', 'game', ',', 'Thursday', ',', 'Jan.', '2', ',', '2025', ',', 'in', 'Los', '\\n', 'Angeles', '.', '(', 'AP', 'Photo', '/', 'Mark', 'J.', 'Terrill', ')', 'Los', 'Angeles', 'Lakers', 'forward', 'LeBron', 'James', ',', '\\n', 'right', ',', 'toss', 'powder', 'in', 'the', 'air', 'as', 'guard', 'Bronny', 'James', 'stand', 'by', 'prior', 'to', 'an', 'NBA', '\\n', 'basketball', 'game', 'against', 'the', 'Portland', 'Trail', 'Blazers', ',', 'Thursday', ',', 'Jan.', '2', ',', '2025', ',', 'in', '\\n', 'Los', 'Angeles', '.', '(', 'AP', 'Photo', '/', 'Mark', 'J.', 'Terrill', ')', 'Portland', 'Trail', 'Blazers', 'forward', 'Deni', '\\n', 'Avdija', ',', 'right', ',', 'shoot', 'as', 'Los', 'Angeles', 'Lakers', 'center', 'Jaxson', 'Hayes', 'defend', 'during', '\\n', 'the', 'first', 'half', 'of', 'an', 'NBA', 'basketball', 'game', ',', 'Thursday', ',', 'Jan.', '2', ',', '2025', ',', 'in', 'Los', '\\n', 'Angeles', '.', '(', 'AP', 'Photo', '/', 'Mark', 'J.', 'Terrill', ')', 'Los', 'Angeles', 'Lakers', 'forward', 'LeBron', 'James', ',', '\\n', 'center', ',', 'shoot', 'as', 'Portland', 'Trail', 'Blazers', 'center', 'Donovan', 'Clingan', ',', 'leave', ',', 'and', 'guard', '\\n', 'Scoot', 'Henderson', 'defend', 'during', 'the', 'first', 'half', 'of', 'an', 'NBA', 'basketball', 'game', ',', '\\n', 'Thursday', ',', 'Jan.', '2', ',', '2025', ',', 'in', 'Los', 'Angeles', '.', '(', 'AP', 'Photo', '/', 'Mark', 'J.', 'Terrill', ')', 'Los', 'Angeles', '\\n', 'Lakers', 'forward', 'Rui', 'Hachimura', 'dunk', 'during', 'the', 'first', 'half', 'of', 'an', 'NBA', 'basketball', '\\n', 'game', 'against', 'the', 'Portland', 'Trail', 'Blazers', ',', 'Thursday', ',', 'Jan.', '2', ',', '2025', ',', 'in', 'Los', 'Angeles', '.', '\\n', '(', 'AP', 'Photo', '/', 'Mark', 'J.', 'Terrill', ')', '            ', 'LOS', 'ANGELES', '(', 'AP', ')', '—', 'LeBron', 'James', 'score', '38', '\\n', 'point', ',', 'Max', 'Christie', 'have', 'a', 'career', '-', 'high', '28', 'and', 'the', 'Los', 'Angeles', 'Lakers', 'overcome', '\\n', 'Anthony', 'Davis', \"'\", 'absence', 'for', 'a', '114', '-', '106', 'victory', 'over', 'the', 'Portland', 'Trail', 'Blazers', 'on', '\\n', 'Thursday', 'night', '.', 'James', 'hit', 'a', 'season', '-', 'high', 'seven', '3', '-', 'pointer', 'and', 'Christie', 'add', 'five', '\\n', 'for', 'the', 'Lakers', ',', 'who', 'have', 'win', 'six', 'of', 'eight', '.', 'Austin', 'Reaves', 'contribute', '15', 'point', ',', '\\n', '11', 'assist', 'and', 'eight', 'rebound', 'as', 'Los', 'Angeles', 'hang', 'on', 'to', 'beat', 'Portland', 'for', 'the', '\\n', 'fifth', 'straight', 'time', '.', 'Davis', 'sit', 'out', 'for', 'only', 'the', 'second', 'time', 'this', 'season', 'to', 'rest', '\\n', 'his', 'sprain', 'left', 'ankle', ',', 'which', 'the', 'star', 'big', 'man', 'hurt', 'on', 'Christmas', '.', 'Point', 'guard', '\\n', 'Gabe', 'Vincent', 'also', 'sit', 'with', 'a', 'hip', 'injury', '.', 'Anfernee', 'Simons', 'score', '11', 'of', 'his', '23', '\\n', 'point', 'in', 'the', 'fourth', 'quarter', 'for', 'the', 'Blazers', ',', 'who', 'have', 'lose', 'four', 'of', 'six', '.', 'Shaedon', '\\n', 'Sharpe', 'and', 'Deni', 'Avdija', 'add', '19', 'point', 'apiece', '.', 'Jaxson', 'Hayes', 'have', 'four', 'point', '\\n', 'while', 'start', 'in', 'Davis', '’', 'spot', 'in', 'his', 'return', 'from', 'a', '15', '-', 'game', 'injury', 'absence', '.', '\\n', 'Dorian', 'Finney', '-', 'Smith', 'score', 'three', 'point', 'and', 'Shake', 'Milton', 'have', 'four', 'in', 'the', '\\n', 'veteran', '’', 'second', 'game', 'for', 'the', 'Lakers', 'since', 'arrive', 'in', 'a', 'trade', 'with', 'Brooklyn', '.', '\\n', 'Trail', 'Blazers', ':', 'the', 'first', 'and', 'fourth', 'quarter', 'be', 'promise', ',', 'but', 'they', 'wait', 'too', '\\n', 'long', 'to', 'get', 'aggressive', 'in', 'the', 'opener', 'of', 'a', 'five', '-', 'game', 'road', 'trip', 'after', 'go', '3', '-', '9', 'in', '\\n', 'December', '.', 'laker', ':', 'Christie', 'be', 'emerge', 'as', 'a', 'key', 'contributor', 'in', 'his', 'third', 'season', '.', '\\n', 'he', 'have', 'score', 'in', 'double', 'digit', 'for', 'the', 'fourth', 'time', 'in', 'five', 'game', ',', 'provide', '\\n', '3', '-', 'and', '-', 'd', 'excellence', '.', '  ', 'Portland', 'trail', '99', '-', '86', 'with', '6:13', 'to', 'play', ',', 'but', 'make', 'a', '14', '-', '4', '\\n', 'run', '.', 'James', 'and', 'Christie', 'combine', 'for', '11', 'point', 'down', 'the', 'stretch', ',', 'cap', 'by', '\\n', 'James', \"'\", 'seventh', '3', '-', 'pointer', 'with', '59', 'second', 'leave', '.', '14', 'of', '24', '—', 'James', \"'\", '3', '-', 'point', '\\n', 'shooting', 'over', 'the', 'past', 'four', 'game', '.', 'he', 'turn', '40', 'midway', 'through', 'this', 'torrid', '\\n', 'stretch', '.', 'the', 'Lakers', 'host', 'Atlanta', 'on', 'Friday', '.', 'the', 'Blazers', 'visit', 'Damian', 'Lillard', 'and', '\\n', 'the', 'Milwaukee', 'Bucks', 'on', 'Saturday', '.', 'AP', 'NBA', ':', 'https://apnews.com/NBA', 'copyright', '2025', '\\n', 'the', 'Associated', 'Press', '.', 'all', 'Rights', 'reserve', '.']\n",
            "\n",
            "========== Named Entities ==========[('2025', 'DATE'), ('The Associated Press', 'ORG'), ('Los Angeles Lakers', 'ORG'), ('LeBron James', 'PERSON'), ('Portland Trail Blazers', 'ORG'), ('Anfernee\\nSimons', 'ORG'), ('the first half', 'DATE'), ('NBA', 'ORG'), ('Thursday, Jan. 2, 2025', 'DATE'), ('Los Angeles', 'GPE'), ('AP', 'ORG'), ('Mark J. Terrill', 'PERSON'), ('Portland Trail Blazers', 'PERSON'), ('Deni\\nAvdija', 'PERSON'), ('Los Angeles Lakers', 'ORG'), ('Jaxson Hayes', 'PRODUCT'), ('the first half', 'DATE'), ('NBA', 'ORG'), ('Thursday, Jan. 2, 2025', 'DATE'), ('Los\\nAngeles', 'GPE'), ('AP', 'ORG'), ('Mark J. Terrill', 'PERSON'), ('Los Angeles', 'GPE'), ('LeBron James', 'PERSON'), ('Bronny James', 'PERSON'), ('NBA', 'ORG'), ('the Portland Trail Blazers', 'ORG'), ('Thursday, Jan. 2, 2025', 'DATE'), ('Los Angeles', 'GPE'), ('AP', 'ORG'), ('Mark J. Terrill', 'PERSON'), ('Portland Trail Blazers', 'PERSON'), ('Deni\\nAvdija', 'PERSON'), ('Los Angeles Lakers', 'ORG'), ('Jaxson Hayes', 'PRODUCT'), ('the first half', 'DATE'), ('NBA', 'ORG'), ('Thursday, Jan. 2, 2025', 'DATE'), ('Los\\nAngeles', 'GPE'), ('AP', 'ORG'), ('Mark J. Terrill', 'PERSON'), ('Los Angeles', 'GPE'), ('LeBron James', 'PERSON'), ('Portland Trail Blazers', 'FAC'), ('Donovan Clingan', 'PERSON'), ('Scoot Henderson', 'PERSON'), ('the first half', 'DATE'), ('NBA', 'ORG'), ('Thursday', 'DATE'), ('Jan. 2, 2025', 'DATE'), ('Los Angeles', 'GPE'), ('AP', 'ORG'), ('Mark J. Terrill', 'PERSON'), ('Los Angeles', 'GPE'), ('Rui Hachimura', 'PERSON'), ('the first half', 'DATE'), ('NBA', 'ORG'), ('the Portland Trail Blazers', 'ORG'), ('Thursday, Jan. 2, 2025', 'DATE'), ('Los Angeles', 'GPE'), ('AP', 'ORG'), ('Mark J. Terrill', 'PERSON'), ('LOS ANGELES', 'GPE'), ('AP', 'ORG'), ('LeBron James', 'PERSON'), ('38', 'CARDINAL'), ('Max Christie', 'PERSON'), ('28', 'CARDINAL'), ('the Los Angeles Lakers', 'ORG'), ('Anthony Davis', 'PERSON'), ('114', 'CARDINAL'), ('the Portland Trail Blazers', 'ORG'), ('Thursday', 'DATE'), ('night', 'TIME'), ('James', 'PERSON'), ('3', 'CARDINAL'), ('Christie', 'ORG'), ('five', 'CARDINAL'), ('Lakers', 'PERSON'), ('six', 'CARDINAL'), ('eight', 'CARDINAL'), ('Austin Reaves', 'PERSON'), ('15', 'CARDINAL'), ('11', 'CARDINAL'), ('eight', 'CARDINAL'), ('Los Angeles', 'GPE'), ('Portland', 'GPE'), ('fifth', 'ORDINAL'), ('Davis', 'PERSON'), ('second', 'ORDINAL'), ('this season', 'DATE'), ('Christmas', 'DATE'), ('Gabe Vincent', 'PERSON'), ('Anfernee Simons', 'ORG'), ('11', 'CARDINAL'), ('23', 'CARDINAL'), ('the fourth quarter', 'DATE'), ('Blazers', 'PERSON'), ('four', 'CARDINAL'), ('six', 'CARDINAL'), ('Shaedon', 'GPE'), ('Sharpe', 'PERSON'), ('Deni Avdija', 'PERSON'), ('19', 'CARDINAL'), ('Jaxson Hayes', 'PERSON'), ('four', 'CARDINAL'), ('Davis', 'PERSON'), ('15', 'CARDINAL'), ('Dorian Finney-Smith', 'PERSON'), ('three', 'CARDINAL'), ('Shake Milton', 'PERSON'), ('four', 'CARDINAL'), ('second', 'ORDINAL'), ('Lakers', 'PERSON'), ('Brooklyn', 'GPE'), ('Trail Blazers', 'FAC'), ('first', 'ORDINAL'), ('five', 'CARDINAL'), ('3-9', 'CARDINAL'), ('December', 'DATE'), ('his third season', 'DATE'), ('fourth', 'ORDINAL'), ('five', 'CARDINAL'), ('3', 'CARDINAL'), ('Portland', 'GPE'), ('99-86', 'CARDINAL'), ('6:13', 'DATE'), ('14', 'CARDINAL'), ('James', 'PERSON'), ('Christie', 'ORG'), ('11', 'CARDINAL'), ('James', 'PERSON'), ('seventh', 'ORDINAL'), ('3', 'CARDINAL'), ('59 seconds', 'TIME'), ('14', 'CARDINAL'), ('24', 'CARDINAL'), ('3', 'CARDINAL'), ('four', 'CARDINAL'), ('40', 'CARDINAL'), ('Lakers', 'PERSON'), ('Atlanta', 'GPE'), ('Friday', 'DATE'), ('the Milwaukee Bucks', 'ORG'), ('Saturday', 'DATE'), ('AP', 'ORG'), ('NBA', 'ORG'), ('2025', 'DATE'), ('The Associated Press', 'ORG')]\n",
            "\n",
            "========== POS Tags (Using NLTK) ==========[('Copyright', 'JJ'), ('2025', 'CD'), ('Associated', 'NNP'), ('Press', 'NNP'), ('.', '.'), ('Rights', 'NNS'), ('Reserved', 'VBN'), ('.', '.'), ('Los', 'NNP'), ('Angeles', 'NNP'), ('Lakers', 'NNP'), ('forward', 'RB'), ('LeBron', 'NNP'), ('James', 'NNP'), (',', ','), ('right', 'RB'), (',', ','), ('drives', 'NNS'), ('Portland', 'NNP'), ('Trail', 'NNP'), ('Blazers', 'NNP'), ('guard', 'VBP'), ('Anfernee', 'NNP'), ('Simons', 'NNP'), ('first', 'RB'), ('half', 'NN'), ('NBA', 'NNP'), ('basketball', 'NN'), ('game', 'NN'), (',', ','), ('Thursday', 'NNP'), (',', ','), ('Jan.', 'NNP'), ('2', 'CD'), (',', ','), ('2025', 'CD'), (',', ','), ('Los', 'NNP'), ('Angeles', 'NNP'), ('.', '.'), ('(', '('), ('AP', 'NNP'), ('Photo/Mark', 'NNP'), ('J.', 'NNP'), ('Terrill', 'NNP'), (')', ')'), ('Portland', 'NNP'), ('Trail', 'NNP'), ('Blazers', 'NNP'), ('forward', 'RB'), ('Deni', 'NNP'), ('Avdija', 'NNP'), (',', ','), ('right', 'RB'), (',', ','), ('shoots', 'NNS'), ('Los', 'NNP'), ('Angeles', 'NNP'), ('Lakers', 'NNP'), ('center', 'NN'), ('Jaxson', 'NNP'), ('Hayes', 'NNP'), ('defends', 'VBZ'), ('first', 'JJ'), ('half', 'NN'), ('NBA', 'NNP'), ('basketball', 'NN'), ('game', 'NN'), (',', ','), ('Thursday', 'NNP'), (',', ','), ('Jan.', 'NNP'), ('2', 'CD'), (',', ','), ('2025', 'CD'), (',', ','), ('Los', 'NNP'), ('Angeles', 'NNP'), ('.', '.'), ('(', '('), ('AP', 'NNP'), ('Photo/Mark', 'NNP'), ('J.', 'NNP'), ('Terrill', 'NNP'), (')', ')'), ('Los', 'NNP'), ('Angeles', 'NNP'), ('Lakers', 'NNP'), ('forward', 'RB'), ('LeBron', 'NNP'), ('James', 'NNP'), (',', ','), ('right', 'RB'), (',', ','), ('tosses', 'NNS'), ('powder', 'VBP'), ('air', 'NN'), ('guard', 'NN'), ('Bronny', 'NNP'), ('James', 'NNP'), ('stands', 'VBZ'), ('prior', 'JJ'), ('NBA', 'NNP'), ('basketball', 'NN'), ('game', 'NN'), ('Portland', 'NNP'), ('Trail', 'NNP'), ('Blazers', 'NNP'), (',', ','), ('Thursday', 'NNP'), (',', ','), ('Jan.', 'NNP'), ('2', 'CD'), (',', ','), ('2025', 'CD'), (',', ','), ('Los', 'NNP'), ('Angeles', 'NNP'), ('.', '.'), ('(', '('), ('AP', 'NNP'), ('Photo/Mark', 'NNP'), ('J.', 'NNP'), ('Terrill', 'NNP'), (')', ')'), ('Portland', 'NNP'), ('Trail', 'NNP'), ('Blazers', 'NNP'), ('forward', 'RB'), ('Deni', 'NNP'), ('Avdija', 'NNP'), (',', ','), ('right', 'RB'), (',', ','), ('shoots', 'NNS'), ('Los', 'NNP'), ('Angeles', 'NNP'), ('Lakers', 'NNP'), ('center', 'NN'), ('Jaxson', 'NNP'), ('Hayes', 'NNP'), ('defends', 'VBZ'), ('first', 'JJ'), ('half', 'NN'), ('NBA', 'NNP'), ('basketball', 'NN'), ('game', 'NN'), (',', ','), ('Thursday', 'NNP'), (',', ','), ('Jan.', 'NNP'), ('2', 'CD'), (',', ','), ('2025', 'CD'), (',', ','), ('Los', 'NNP'), ('Angeles', 'NNP'), ('.', '.'), ('(', '('), ('AP', 'NNP'), ('Photo/Mark', 'NNP'), ('J.', 'NNP'), ('Terrill', 'NNP'), (')', ')'), ('Los', 'NNP'), ('Angeles', 'NNP'), ('Lakers', 'NNP'), ('forward', 'RB'), ('LeBron', 'NNP'), ('James', 'NNP'), (',', ','), ('center', 'NN'), (',', ','), ('shoots', 'JJ'), ('Portland', 'NNP'), ('Trail', 'NNP'), ('Blazers', 'NNP'), ('center', 'NN'), ('Donovan', 'NNP'), ('Clingan', 'NNP'), (',', ','), ('left', 'VBD'), (',', ','), ('guard', 'JJ'), ('Scoot', 'NNP'), ('Henderson', 'NNP'), ('defend', 'VBP'), ('first', 'JJ'), ('half', 'NN'), ('NBA', 'NNP'), ('basketball', 'NN'), ('game', 'NN'), (',', ','), ('Thursday', 'NNP'), (',', ','), ('Jan.', 'NNP'), ('2', 'CD'), (',', ','), ('2025', 'CD'), (',', ','), ('Los', 'NNP'), ('Angeles', 'NNP'), ('.', '.'), ('(', '('), ('AP', 'NNP'), ('Photo/Mark', 'NNP'), ('J.', 'NNP'), ('Terrill', 'NNP'), (')', ')'), ('Los', 'NNP'), ('Angeles', 'NNP'), ('Lakers', 'NNP'), ('forward', 'RB'), ('Rui', 'NNP'), ('Hachimura', 'NNP'), ('dunks', 'NNS'), ('first', 'RB'), ('half', 'DT'), ('NBA', 'NNP'), ('basketball', 'NN'), ('game', 'NN'), ('Portland', 'NNP'), ('Trail', 'NNP'), ('Blazers', 'NNP'), (',', ','), ('Thursday', 'NNP'), (',', ','), ('Jan.', 'NNP'), ('2', 'CD'), (',', ','), ('2025', 'CD'), (',', ','), ('Los', 'NNP'), ('Angeles', 'NNP'), ('.', '.'), ('(', '('), ('AP', 'NNP'), ('Photo/Mark', 'NNP'), ('J.', 'NNP'), ('Terrill', 'NNP'), (')', ')'), ('LOS', 'NNP'), ('ANGELES', 'NNP'), ('(', '('), ('AP', 'NNP'), (')', ')'), ('—', 'VBP'), ('LeBron', 'NNP'), ('James', 'NNP'), ('scored', 'VBD'), ('38', 'CD'), ('points', 'NNS'), (',', ','), ('Max', 'NNP'), ('Christie', 'NNP'), ('career-high', 'JJ'), ('28', 'CD'), ('Los', 'NNP'), ('Angeles', 'NNP'), ('Lakers', 'NNP'), ('overcame', 'VBP'), ('Anthony', 'NNP'), ('Davis', 'NNP'), ('’', 'NNP'), ('absence', 'NN'), ('114-106', 'JJ'), ('victory', 'NN'), ('Portland', 'NNP'), ('Trail', 'NNP'), ('Blazers', 'NNP'), ('Thursday', 'NNP'), ('night', 'NN'), ('.', '.'), ('James', 'NNP'), ('hit', 'VBD'), ('season-high', 'JJ'), ('seven', 'CD'), ('3-pointers', 'NNS'), ('Christie', 'NNP'), ('added', 'VBD'), ('five', 'CD'), ('Lakers', 'NNS'), (',', ','), ('six', 'CD'), ('eight', 'CD'), ('.', '.'), ('Austin', 'NNP'), ('Reaves', 'NNPS'), ('contributed', 'VBD'), ('15', 'CD'), ('points', 'NNS'), (',', ','), ('11', 'CD'), ('assists', 'NNS'), ('eight', 'CD'), ('rebounds', 'NNS'), ('Los', 'NNP'), ('Angeles', 'NNP'), ('hung', 'NN'), ('beat', 'NN'), ('Portland', 'NNP'), ('fifth', 'RB'), ('straight', 'VBD'), ('time', 'NN'), ('.', '.'), ('Davis', 'NNP'), ('sat', 'VBD'), ('second', 'JJ'), ('time', 'NN'), ('season', 'NN'), ('rest', 'NN'), ('sprained', 'VBD'), ('left', 'VBD'), ('ankle', 'NN'), (',', ','), ('star', 'NN'), ('big', 'JJ'), ('man', 'NN'), ('hurt', 'VBD'), ('Christmas', 'NNP'), ('.', '.'), ('Point', 'NNP'), ('guard', 'NN'), ('Gabe', 'NNP'), ('Vincent', 'NNP'), ('also', 'RB'), ('sat', 'VBD'), ('hip', 'JJ'), ('injury', 'NN'), ('.', '.'), ('Anfernee', 'NNP'), ('Simons', 'NNPS'), ('scored', 'VBD'), ('11', 'CD'), ('23', 'CD'), ('points', 'NNS'), ('fourth', 'JJ'), ('quarter', 'NN'), ('Blazers', 'NNP'), (',', ','), ('lost', 'VBD'), ('four', 'CD'), ('six', 'CD'), ('.', '.'), ('Shaedon', 'NNP'), ('Sharpe', 'NNP'), ('Deni', 'NNP'), ('Avdija', 'NNP'), ('added', 'VBD'), ('19', 'CD'), ('points', 'NNS'), ('apiece', 'RB'), ('.', '.'), ('Jaxson', 'NNP'), ('Hayes', 'NNP'), ('four', 'CD'), ('points', 'NNS'), ('starting', 'VBG'), ('Davis', 'NNP'), ('’', 'NNP'), ('spot', 'NN'), ('return', 'VB'), ('15-game', 'JJ'), ('injury', 'NN'), ('absence', 'NN'), ('.', '.'), ('Dorian', 'JJ'), ('Finney-Smith', 'NNP'), ('scored', 'VBD'), ('three', 'CD'), ('points', 'NNS'), ('Shake', 'NNP'), ('Milton', 'NNP'), ('four', 'CD'), ('veterans', 'NNS'), ('’', 'VBP'), ('second', 'JJ'), ('game', 'NN'), ('Lakers', 'NNP'), ('since', 'IN'), ('arriving', 'VBG'), ('trade', 'NN'), ('Brooklyn', 'NNP'), ('.', '.'), ('Trail', 'NNP'), ('Blazers', 'NNS'), (':', ':'), ('first', 'JJ'), ('fourth', 'JJ'), ('quarters', 'NNS'), ('promising', 'VBG'), (',', ','), ('waited', 'VBD'), ('long', 'JJ'), ('get', 'NN'), ('aggressive', 'JJ'), ('opener', 'NN'), ('five-game', 'JJ'), ('road', 'NN'), ('trip', 'NN'), ('going', 'VBG'), ('3-9', 'JJ'), ('December', 'NNP'), ('.', '.'), ('Lakers', 'NNS'), (':', ':'), ('Christie', 'NNP'), ('emerging', 'VBG'), ('key', 'JJ'), ('contributor', 'NN'), ('third', 'JJ'), ('season', 'NN'), ('.', '.'), ('scored', 'VBN'), ('double', 'JJ'), ('digits', 'NNS'), ('fourth', 'JJ'), ('time', 'NN'), ('five', 'CD'), ('games', 'NNS'), (',', ','), ('providing', 'VBG'), ('3-and-D', 'JJ'), ('excellence', 'NN'), ('.', '.'), ('Portland', 'NNP'), ('trailed', 'VBD'), ('99-86', 'CD'), ('6:13', 'CD'), ('play', 'NN'), (',', ','), ('made', 'VBD'), ('14-4', 'JJ'), ('run', 'NN'), ('.', '.'), ('James', 'NNP'), ('Christie', 'NNP'), ('combined', 'VBD'), ('11', 'CD'), ('points', 'NNS'), ('stretch', 'NN'), (',', ','), ('capped', 'VBD'), ('James', 'NNP'), ('’', 'NNP'), ('seventh', 'VBD'), ('3-pointer', 'JJ'), ('59', 'CD'), ('seconds', 'NNS'), ('left', 'VBN'), ('.', '.'), ('14', 'CD'), ('24', 'CD'), ('—', 'NN'), ('James', 'NNP'), ('’', 'NNP'), ('3-point', 'JJ'), ('shooting', 'VBG'), ('past', 'IN'), ('four', 'CD'), ('games', 'NNS'), ('.', '.'), ('turned', 'VBD'), ('40', 'CD'), ('midway', 'NN'), ('torrid', 'JJ'), ('stretch', 'NN'), ('.', '.'), ('Lakers', 'NNS'), ('host', 'VBD'), ('Atlanta', 'NNP'), ('Friday', 'NNP'), ('.', '.'), ('Blazers', 'NNP'), ('visit', 'NN'), ('Damian', 'NNP'), ('Lillard', 'NNP'), ('Milwaukee', 'NNP'), ('Bucks', 'NNP'), ('Saturday', 'NNP'), ('.', '.'), ('AP', 'NNP'), ('NBA', 'NNP'), (':', ':'), ('https', 'NN'), (':', ':'), ('//apnews.com/NBA', 'NN'), ('Copyright', 'NNP'), ('2025', 'CD'), ('Associated', 'NNP'), ('Press', 'NNP'), ('.', '.'), ('Rights', 'NNS'), ('Reserved', 'VBN'), ('.', '.')]\n",
            "\n",
            "========== POS Tags (Using SpaCy) ==========[('Copyright', 'NOUN'), ('2025', 'NUM'), ('The', 'DET'), ('Associated', 'PROPN'), ('Press', 'PROPN'), ('.', 'PUNCT'), ('All', 'DET'), ('Rights', 'PROPN'), ('Reserved', 'VERB'), ('.', 'PUNCT'), ('Los', 'PROPN'), ('Angeles', 'PROPN'), ('Lakers', 'PROPN'), ('\\n', 'SPACE'), ('forward', 'ADV'), ('LeBron', 'PROPN'), ('James', 'PROPN'), (',', 'PUNCT'), ('right', 'INTJ'), (',', 'PUNCT'), ('drives', 'NOUN'), ('by', 'ADP'), ('Portland', 'PROPN'), ('Trail', 'PROPN'), ('Blazers', 'PROPN'), ('guard', 'VERB'), ('Anfernee', 'PROPN'), ('\\n', 'SPACE'), ('Simons', 'PROPN'), ('during', 'ADP'), ('the', 'DET'), ('first', 'ADJ'), ('half', 'NOUN'), ('of', 'ADP'), ('an', 'DET'), ('NBA', 'PROPN'), ('basketball', 'NOUN'), ('game', 'NOUN'), (',', 'PUNCT'), ('Thursday', 'PROPN'), (',', 'PUNCT'), ('Jan.', 'PROPN'), ('2', 'NUM'), (',', 'PUNCT'), ('2025', 'NUM'), (',', 'PUNCT'), ('\\n', 'SPACE'), ('in', 'ADP'), ('Los', 'PROPN'), ('Angeles', 'PROPN'), ('.', 'PUNCT'), ('(', 'PUNCT'), ('AP', 'PROPN'), ('Photo', 'PROPN'), ('/', 'SYM'), ('Mark', 'PROPN'), ('J.', 'PROPN'), ('Terrill', 'PROPN'), (')', 'PUNCT'), ('Portland', 'PROPN'), ('Trail', 'PROPN'), ('Blazers', 'PROPN'), ('forward', 'ADV'), ('Deni', 'PROPN'), ('\\n', 'SPACE'), ('Avdija', 'PROPN'), (',', 'PUNCT'), ('right', 'INTJ'), (',', 'PUNCT'), ('shoots', 'NOUN'), ('as', 'SCONJ'), ('Los', 'PROPN'), ('Angeles', 'PROPN'), ('Lakers', 'PROPN'), ('center', 'NOUN'), ('Jaxson', 'PROPN'), ('Hayes', 'PROPN'), ('defends', 'VERB'), ('during', 'ADP'), ('\\n', 'SPACE'), ('the', 'DET'), ('first', 'ADJ'), ('half', 'NOUN'), ('of', 'ADP'), ('an', 'DET'), ('NBA', 'PROPN'), ('basketball', 'NOUN'), ('game', 'NOUN'), (',', 'PUNCT'), ('Thursday', 'PROPN'), (',', 'PUNCT'), ('Jan.', 'PROPN'), ('2', 'NUM'), (',', 'PUNCT'), ('2025', 'NUM'), (',', 'PUNCT'), ('in', 'ADP'), ('Los', 'PROPN'), ('\\n', 'SPACE'), ('Angeles', 'PROPN'), ('.', 'PUNCT'), ('(', 'PUNCT'), ('AP', 'PROPN'), ('Photo', 'PROPN'), ('/', 'SYM'), ('Mark', 'PROPN'), ('J.', 'PROPN'), ('Terrill', 'PROPN'), (')', 'PUNCT'), ('Los', 'PROPN'), ('Angeles', 'PROPN'), ('Lakers', 'PROPN'), ('forward', 'ADV'), ('LeBron', 'PROPN'), ('James', 'PROPN'), (',', 'PUNCT'), ('\\n', 'SPACE'), ('right', 'NOUN'), (',', 'PUNCT'), ('tosses', 'VERB'), ('powder', 'NOUN'), ('in', 'ADP'), ('the', 'DET'), ('air', 'NOUN'), ('as', 'SCONJ'), ('guard', 'NOUN'), ('Bronny', 'PROPN'), ('James', 'PROPN'), ('stands', 'VERB'), ('by', 'ADP'), ('prior', 'ADV'), ('to', 'ADP'), ('an', 'DET'), ('NBA', 'PROPN'), ('\\n', 'SPACE'), ('basketball', 'NOUN'), ('game', 'NOUN'), ('against', 'ADP'), ('the', 'DET'), ('Portland', 'PROPN'), ('Trail', 'PROPN'), ('Blazers', 'PROPN'), (',', 'PUNCT'), ('Thursday', 'PROPN'), (',', 'PUNCT'), ('Jan.', 'PROPN'), ('2', 'NUM'), (',', 'PUNCT'), ('2025', 'NUM'), (',', 'PUNCT'), ('in', 'ADP'), ('\\n', 'SPACE'), ('Los', 'PROPN'), ('Angeles', 'PROPN'), ('.', 'PUNCT'), ('(', 'PUNCT'), ('AP', 'PROPN'), ('Photo', 'PROPN'), ('/', 'SYM'), ('Mark', 'PROPN'), ('J.', 'PROPN'), ('Terrill', 'PROPN'), (')', 'PUNCT'), ('Portland', 'PROPN'), ('Trail', 'PROPN'), ('Blazers', 'PROPN'), ('forward', 'ADV'), ('Deni', 'PROPN'), ('\\n', 'SPACE'), ('Avdija', 'PROPN'), (',', 'PUNCT'), ('right', 'INTJ'), (',', 'PUNCT'), ('shoots', 'NOUN'), ('as', 'SCONJ'), ('Los', 'PROPN'), ('Angeles', 'PROPN'), ('Lakers', 'PROPN'), ('center', 'NOUN'), ('Jaxson', 'PROPN'), ('Hayes', 'PROPN'), ('defends', 'VERB'), ('during', 'ADP'), ('\\n', 'SPACE'), ('the', 'DET'), ('first', 'ADJ'), ('half', 'NOUN'), ('of', 'ADP'), ('an', 'DET'), ('NBA', 'PROPN'), ('basketball', 'NOUN'), ('game', 'NOUN'), (',', 'PUNCT'), ('Thursday', 'PROPN'), (',', 'PUNCT'), ('Jan.', 'PROPN'), ('2', 'NUM'), (',', 'PUNCT'), ('2025', 'NUM'), (',', 'PUNCT'), ('in', 'ADP'), ('Los', 'PROPN'), ('\\n', 'SPACE'), ('Angeles', 'PROPN'), ('.', 'PUNCT'), ('(', 'PUNCT'), ('AP', 'PROPN'), ('Photo', 'PROPN'), ('/', 'SYM'), ('Mark', 'PROPN'), ('J.', 'PROPN'), ('Terrill', 'PROPN'), (')', 'PUNCT'), ('Los', 'PROPN'), ('Angeles', 'PROPN'), ('Lakers', 'PROPN'), ('forward', 'ADV'), ('LeBron', 'PROPN'), ('James', 'PROPN'), (',', 'PUNCT'), ('\\n', 'SPACE'), ('center', 'NOUN'), (',', 'PUNCT'), ('shoots', 'NOUN'), ('as', 'ADP'), ('Portland', 'PROPN'), ('Trail', 'PROPN'), ('Blazers', 'PROPN'), ('center', 'NOUN'), ('Donovan', 'PROPN'), ('Clingan', 'PROPN'), (',', 'PUNCT'), ('left', 'VERB'), (',', 'PUNCT'), ('and', 'CCONJ'), ('guard', 'VERB'), ('\\n', 'SPACE'), ('Scoot', 'PROPN'), ('Henderson', 'PROPN'), ('defend', 'VERB'), ('during', 'ADP'), ('the', 'DET'), ('first', 'ADJ'), ('half', 'NOUN'), ('of', 'ADP'), ('an', 'DET'), ('NBA', 'PROPN'), ('basketball', 'NOUN'), ('game', 'NOUN'), (',', 'PUNCT'), ('\\n', 'SPACE'), ('Thursday', 'PROPN'), (',', 'PUNCT'), ('Jan.', 'PROPN'), ('2', 'NUM'), (',', 'PUNCT'), ('2025', 'NUM'), (',', 'PUNCT'), ('in', 'ADP'), ('Los', 'PROPN'), ('Angeles', 'PROPN'), ('.', 'PUNCT'), ('(', 'PUNCT'), ('AP', 'PROPN'), ('Photo', 'PROPN'), ('/', 'SYM'), ('Mark', 'PROPN'), ('J.', 'PROPN'), ('Terrill', 'PROPN'), (')', 'PUNCT'), ('Los', 'PROPN'), ('Angeles', 'PROPN'), ('\\n', 'SPACE'), ('Lakers', 'PROPN'), ('forward', 'ADV'), ('Rui', 'PROPN'), ('Hachimura', 'PROPN'), ('dunks', 'VERB'), ('during', 'ADP'), ('the', 'DET'), ('first', 'ADJ'), ('half', 'NOUN'), ('of', 'ADP'), ('an', 'DET'), ('NBA', 'PROPN'), ('basketball', 'NOUN'), ('\\n', 'SPACE'), ('game', 'NOUN'), ('against', 'ADP'), ('the', 'DET'), ('Portland', 'PROPN'), ('Trail', 'PROPN'), ('Blazers', 'PROPN'), (',', 'PUNCT'), ('Thursday', 'PROPN'), (',', 'PUNCT'), ('Jan.', 'PROPN'), ('2', 'NUM'), (',', 'PUNCT'), ('2025', 'NUM'), (',', 'PUNCT'), ('in', 'ADP'), ('Los', 'PROPN'), ('Angeles', 'PROPN'), ('.', 'PUNCT'), ('\\n', 'SPACE'), ('(', 'PUNCT'), ('AP', 'PROPN'), ('Photo', 'PROPN'), ('/', 'SYM'), ('Mark', 'PROPN'), ('J.', 'PROPN'), ('Terrill', 'PROPN'), (')', 'PUNCT'), ('            ', 'SPACE'), ('LOS', 'PROPN'), ('ANGELES', 'PROPN'), ('(', 'PUNCT'), ('AP', 'PROPN'), (')', 'PUNCT'), ('—', 'PUNCT'), ('LeBron', 'PROPN'), ('James', 'PROPN'), ('scored', 'VERB'), ('38', 'NUM'), ('\\n', 'SPACE'), ('points', 'NOUN'), (',', 'PUNCT'), ('Max', 'PROPN'), ('Christie', 'PROPN'), ('had', 'VERB'), ('a', 'DET'), ('career', 'NOUN'), ('-', 'PUNCT'), ('high', 'ADJ'), ('28', 'NUM'), ('and', 'CCONJ'), ('the', 'DET'), ('Los', 'PROPN'), ('Angeles', 'PROPN'), ('Lakers', 'PROPN'), ('overcame', 'VERB'), ('\\n', 'SPACE'), ('Anthony', 'PROPN'), ('Davis', 'PROPN'), ('’', 'PUNCT'), ('absence', 'NOUN'), ('for', 'ADP'), ('a', 'DET'), ('114', 'NUM'), ('-', 'SYM'), ('106', 'NUM'), ('victory', 'NOUN'), ('over', 'ADP'), ('the', 'DET'), ('Portland', 'PROPN'), ('Trail', 'PROPN'), ('Blazers', 'PROPN'), ('on', 'ADP'), ('\\n', 'SPACE'), ('Thursday', 'PROPN'), ('night', 'NOUN'), ('.', 'PUNCT'), ('James', 'PROPN'), ('hit', 'VERB'), ('a', 'DET'), ('season', 'NOUN'), ('-', 'PUNCT'), ('high', 'ADJ'), ('seven', 'NUM'), ('3', 'NUM'), ('-', 'PUNCT'), ('pointers', 'NOUN'), ('and', 'CCONJ'), ('Christie', 'PROPN'), ('added', 'VERB'), ('five', 'NUM'), ('\\n', 'SPACE'), ('for', 'ADP'), ('the', 'DET'), ('Lakers', 'PROPN'), (',', 'PUNCT'), ('who', 'PRON'), ('have', 'AUX'), ('won', 'VERB'), ('six', 'NUM'), ('of', 'ADP'), ('eight', 'NUM'), ('.', 'PUNCT'), ('Austin', 'PROPN'), ('Reaves', 'PROPN'), ('contributed', 'VERB'), ('15', 'NUM'), ('points', 'NOUN'), (',', 'PUNCT'), ('\\n', 'SPACE'), ('11', 'NUM'), ('assists', 'NOUN'), ('and', 'CCONJ'), ('eight', 'NUM'), ('rebounds', 'NOUN'), ('as', 'SCONJ'), ('Los', 'PROPN'), ('Angeles', 'PROPN'), ('hung', 'VERB'), ('on', 'ADP'), ('to', 'PART'), ('beat', 'VERB'), ('Portland', 'PROPN'), ('for', 'ADP'), ('the', 'DET'), ('\\n', 'SPACE'), ('fifth', 'ADJ'), ('straight', 'ADJ'), ('time', 'NOUN'), ('.', 'PUNCT'), ('Davis', 'PROPN'), ('sat', 'VERB'), ('out', 'ADP'), ('for', 'ADP'), ('only', 'ADV'), ('the', 'DET'), ('second', 'ADJ'), ('time', 'NOUN'), ('this', 'DET'), ('season', 'NOUN'), ('to', 'PART'), ('rest', 'VERB'), ('\\n', 'SPACE'), ('his', 'PRON'), ('sprained', 'VERB'), ('left', 'ADJ'), ('ankle', 'NOUN'), (',', 'PUNCT'), ('which', 'PRON'), ('the', 'DET'), ('star', 'NOUN'), ('big', 'ADJ'), ('man', 'NOUN'), ('hurt', 'VERB'), ('on', 'ADP'), ('Christmas', 'PROPN'), ('.', 'PUNCT'), ('Point', 'PROPN'), ('guard', 'PROPN'), ('\\n', 'SPACE'), ('Gabe', 'PROPN'), ('Vincent', 'PROPN'), ('also', 'ADV'), ('sat', 'VERB'), ('with', 'ADP'), ('a', 'DET'), ('hip', 'NOUN'), ('injury', 'NOUN'), ('.', 'PUNCT'), ('Anfernee', 'PROPN'), ('Simons', 'PROPN'), ('scored', 'VERB'), ('11', 'NUM'), ('of', 'ADP'), ('his', 'PRON'), ('23', 'NUM'), ('\\n', 'SPACE'), ('points', 'NOUN'), ('in', 'ADP'), ('the', 'DET'), ('fourth', 'ADJ'), ('quarter', 'NOUN'), ('for', 'ADP'), ('the', 'DET'), ('Blazers', 'PROPN'), (',', 'PUNCT'), ('who', 'PRON'), ('have', 'AUX'), ('lost', 'VERB'), ('four', 'NUM'), ('of', 'ADP'), ('six', 'NUM'), ('.', 'PUNCT'), ('Shaedon', 'PROPN'), ('\\n', 'SPACE'), ('Sharpe', 'PROPN'), ('and', 'CCONJ'), ('Deni', 'PROPN'), ('Avdija', 'PROPN'), ('added', 'VERB'), ('19', 'NUM'), ('points', 'NOUN'), ('apiece', 'ADV'), ('.', 'PUNCT'), ('Jaxson', 'PROPN'), ('Hayes', 'PROPN'), ('had', 'VERB'), ('four', 'NUM'), ('points', 'NOUN'), ('\\n', 'SPACE'), ('while', 'SCONJ'), ('starting', 'VERB'), ('in', 'ADP'), ('Davis', 'PROPN'), ('’', 'PART'), ('spot', 'NOUN'), ('in', 'ADP'), ('his', 'PRON'), ('return', 'NOUN'), ('from', 'ADP'), ('a', 'DET'), ('15', 'NUM'), ('-', 'PUNCT'), ('game', 'NOUN'), ('injury', 'NOUN'), ('absence', 'NOUN'), ('.', 'PUNCT'), ('\\n', 'SPACE'), ('Dorian', 'PROPN'), ('Finney', 'PROPN'), ('-', 'PUNCT'), ('Smith', 'PROPN'), ('scored', 'VERB'), ('three', 'NUM'), ('points', 'NOUN'), ('and', 'CCONJ'), ('Shake', 'PROPN'), ('Milton', 'PROPN'), ('had', 'VERB'), ('four', 'NUM'), ('in', 'ADP'), ('the', 'DET'), ('\\n', 'SPACE'), ('veterans', 'NOUN'), ('’', 'PART'), ('second', 'ADJ'), ('game', 'NOUN'), ('for', 'ADP'), ('the', 'DET'), ('Lakers', 'PROPN'), ('since', 'SCONJ'), ('arriving', 'VERB'), ('in', 'ADP'), ('a', 'DET'), ('trade', 'NOUN'), ('with', 'ADP'), ('Brooklyn', 'PROPN'), ('.', 'PUNCT'), ('\\n', 'SPACE'), ('Trail', 'PROPN'), ('Blazers', 'PROPN'), (':', 'PUNCT'), ('The', 'DET'), ('first', 'ADJ'), ('and', 'CCONJ'), ('fourth', 'ADJ'), ('quarters', 'NOUN'), ('were', 'AUX'), ('promising', 'VERB'), (',', 'PUNCT'), ('but', 'CCONJ'), ('they', 'PRON'), ('waited', 'VERB'), ('too', 'ADV'), ('\\n', 'SPACE'), ('long', 'ADV'), ('to', 'PART'), ('get', 'VERB'), ('aggressive', 'ADJ'), ('in', 'ADP'), ('the', 'DET'), ('opener', 'NOUN'), ('of', 'ADP'), ('a', 'DET'), ('five', 'NUM'), ('-', 'PUNCT'), ('game', 'NOUN'), ('road', 'NOUN'), ('trip', 'NOUN'), ('after', 'ADP'), ('going', 'VERB'), ('3', 'NUM'), ('-', 'SYM'), ('9', 'NUM'), ('in', 'ADP'), ('\\n', 'SPACE'), ('December', 'PROPN'), ('.', 'PUNCT'), ('Lakers', 'NOUN'), (':', 'PUNCT'), ('Christie', 'PROPN'), ('is', 'AUX'), ('emerging', 'VERB'), ('as', 'ADP'), ('a', 'DET'), ('key', 'ADJ'), ('contributor', 'NOUN'), ('in', 'ADP'), ('his', 'PRON'), ('third', 'ADJ'), ('season', 'NOUN'), ('.', 'PUNCT'), ('\\n', 'SPACE'), ('He', 'PRON'), ('has', 'AUX'), ('scored', 'VERB'), ('in', 'ADP'), ('double', 'ADJ'), ('digits', 'NOUN'), ('for', 'ADP'), ('the', 'DET'), ('fourth', 'ADJ'), ('time', 'NOUN'), ('in', 'ADP'), ('five', 'NUM'), ('games', 'NOUN'), (',', 'PUNCT'), ('providing', 'VERB'), ('\\n', 'SPACE'), ('3', 'NUM'), ('-', 'PUNCT'), ('and', 'CCONJ'), ('-', 'PUNCT'), ('D', 'NOUN'), ('excellence', 'NOUN'), ('.', 'PUNCT'), ('  ', 'SPACE'), ('Portland', 'PROPN'), ('trailed', 'VERB'), ('99', 'NUM'), ('-', 'SYM'), ('86', 'NUM'), ('with', 'ADP'), ('6:13', 'NUM'), ('to', 'PART'), ('play', 'VERB'), (',', 'PUNCT'), ('but', 'CCONJ'), ('made', 'VERB'), ('a', 'DET'), ('14', 'NUM'), ('-', 'SYM'), ('4', 'NUM'), ('\\n', 'SPACE'), ('run', 'NOUN'), ('.', 'PUNCT'), ('James', 'PROPN'), ('and', 'CCONJ'), ('Christie', 'PROPN'), ('combined', 'VERB'), ('for', 'ADP'), ('11', 'NUM'), ('points', 'NOUN'), ('down', 'ADP'), ('the', 'DET'), ('stretch', 'NOUN'), (',', 'PUNCT'), ('capped', 'VERB'), ('by', 'ADP'), ('\\n', 'SPACE'), ('James', 'PROPN'), ('’', 'PUNCT'), ('seventh', 'ADJ'), ('3', 'NUM'), ('-', 'PUNCT'), ('pointer', 'NOUN'), ('with', 'ADP'), ('59', 'NUM'), ('seconds', 'NOUN'), ('left', 'VERB'), ('.', 'PUNCT'), ('14', 'NUM'), ('of', 'ADP'), ('24', 'NUM'), ('—', 'PUNCT'), ('James', 'PROPN'), ('’', 'PUNCT'), ('3', 'NUM'), ('-', 'PUNCT'), ('point', 'NOUN'), ('\\n', 'SPACE'), ('shooting', 'NOUN'), ('over', 'ADP'), ('the', 'DET'), ('past', 'ADJ'), ('four', 'NUM'), ('games', 'NOUN'), ('.', 'PUNCT'), ('He', 'PRON'), ('turned', 'VERB'), ('40', 'NUM'), ('midway', 'ADV'), ('through', 'ADP'), ('this', 'DET'), ('torrid', 'ADJ'), ('\\n', 'SPACE'), ('stretch', 'NOUN'), ('.', 'PUNCT'), ('The', 'DET'), ('Lakers', 'PROPN'), ('host', 'NOUN'), ('Atlanta', 'PROPN'), ('on', 'ADP'), ('Friday', 'PROPN'), ('.', 'PUNCT'), ('The', 'DET'), ('Blazers', 'PROPN'), ('visit', 'VERB'), ('Damian', 'PROPN'), ('Lillard', 'PROPN'), ('and', 'CCONJ'), ('\\n', 'SPACE'), ('the', 'DET'), ('Milwaukee', 'PROPN'), ('Bucks', 'PROPN'), ('on', 'ADP'), ('Saturday', 'PROPN'), ('.', 'PUNCT'), ('AP', 'PROPN'), ('NBA', 'PROPN'), (':', 'PUNCT'), ('https://apnews.com/NBA', 'PROPN'), ('Copyright', 'NOUN'), ('2025', 'NUM'), ('\\n', 'SPACE'), ('The', 'DET'), ('Associated', 'PROPN'), ('Press', 'PROPN'), ('.', 'PUNCT'), ('All', 'DET'), ('Rights', 'PROPN'), ('Reserved', 'VERB'), ('.', 'PUNCT')]\n",
            "\n",
            "========== Word Frequency ==========[(',', 45), ('.', 28), ('Los', 14), ('Angeles', 14), ('Lakers', 11), ('Blazers', 10), ('James', 9), ('Portland', 9), ('2025', 8), ('Trail', 8)]\n",
            "\n"
          ]
        }
      ]
    },
    {
      "cell_type": "code",
      "source": [],
      "metadata": {
        "id": "yBG6HJMzI7_e"
      },
      "execution_count": null,
      "outputs": []
    }
  ]
}